{
 "cells": [
  {
   "cell_type": "code",
   "execution_count": 0,
   "id": "b73983",
   "metadata": {
    "collapsed": false
   },
   "outputs": [],
   "source": [
    "needsPackage \"Polyhedra\"\n",
    "needsPackage \"NormalToricVarieties\"\n",
    "needsPackage \"LatticePolytopes\""
   ]
  },
  {
   "cell_type": "code",
   "execution_count": 0,
   "id": "4be2f5",
   "metadata": {
    "collapsed": false
   },
   "outputs": [],
   "source": [
    "V_5 = matrix {\n",
    "    {0,0,0,0,0},  -- Origin\n",
    "    {1,0,0,0,0},  -- e_1\n",
    "    {0,1,0,0,0},  -- e_2\n",
    "    {0,0,1,0,0},  -- e_3\n",
    "    {0,0,0,1,0},  -- e_4\n",
    "    {0,0,0,0,1},  -- e_5\n",
    "    {1,1,0,0,0},  -- Edge (1,2)\n",
    "    {0,1,1,0,0},  -- Edge (2,3)\n",
    "    {0,0,1,1,0},  -- Edge (3,4)\n",
    "    {0,0,0,1,1},  -- Edge (4,5)\n",
    "    {1,0,0,0,1}   -- Edge (5,1)\n",
    "}\n",
    "\n",
    "V5 = transpose V_5\n",
    "P5 = convexHull V5\n",
    "\n",
    "dim P5\n"
   ]
  },
  {
   "cell_type": "code",
   "execution_count": 0,
   "id": "e030af",
   "metadata": {
    "collapsed": false
   },
   "outputs": [],
   "source": [
    "V_6 = matrix {\n",
    "    {0,0,0,0,0,0},  -- Origin\n",
    "    {1,0,0,0,0,0},  -- e_1\n",
    "    {0,1,0,0,0,0},  -- e_2\n",
    "    {0,0,1,0,0,0},  -- e_3\n",
    "    {0,0,0,1,0,0},  -- e_4\n",
    "    {0,0,0,0,1,0},  -- e_5\n",
    "    {0,0,0,0,0,1},  -- e_6\n",
    "    {1,1,0,0,0,0},  -- Edge (1,2)\n",
    "    {0,1,1,0,0,0},  -- Edge (2,3)\n",
    "    {0,0,1,1,0,0},  -- Edge (3,4)\n",
    "    {0,0,0,1,1,0},  -- Edge (4,5)\n",
    "    {0,0,0,0,1,1},  -- Edge (5,6)\n",
    "    {1,0,0,0,0,1}   -- Edge (6,1)\n",
    "}\n",
    "\n",
    "V6 = transpose V_6\n",
    "P6 = convexHull V6\n",
    "\n",
    "dim P6"
   ]
  },
  {
   "cell_type": "code",
   "execution_count": 0,
   "id": "4cac6e",
   "metadata": {
    "collapsed": false
   },
   "outputs": [],
   "source": []
  }
 ],
 "metadata": {
  "kernelspec": {
   "argv": [
    "/usr/bin/python3",
    "-m",
    "m2_kernel",
    "-f",
    "{connection_file}"
   ],
   "display_name": "Julia 1.11.5",
   "env": {},
   "language": "julia",
   "name": "julia-1.11",
   "resource_dir": "/ext/jupyter/kernels/m2"
  },
  "language_info": {
   "codemirror_mode": "macaulay2",
   "file_extension": ".m2",
   "mimetype": "text/x-macaulay2",
   "name": "julia"
  }
 },
 "nbformat": 4,
 "nbformat_minor": 4
}
